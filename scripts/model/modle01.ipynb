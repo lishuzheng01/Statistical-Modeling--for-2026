{
 "cells": [
  {
   "cell_type": "code",
   "id": "initial_id",
   "metadata": {
    "collapsed": true,
    "ExecuteTime": {
     "end_time": "2025-09-27T13:01:29.072987Z",
     "start_time": "2025-09-27T13:01:29.054887Z"
    }
   },
   "source": [
    "import pandas as pd\n",
    "\n",
    "file_path = 'D:\\SystemFile\\Desktop\\Statistical-Modeling--for-2026\\dataset\\国家海洋环境检测中心海水水质检测信息2017-2025年\\国家海洋环境检测中心海水水质检测信息2017年.csv'\n",
    "\n",
    "pd = pd.read_csv(file_path)\n",
    "pd.all()"
   ],
   "outputs": [
    {
     "name": "stderr",
     "output_type": "stream",
     "text": [
      "<>:3: SyntaxWarning: invalid escape sequence '\\S'\n",
      "<>:3: SyntaxWarning: invalid escape sequence '\\S'\n",
      "C:\\Users\\30353\\AppData\\Local\\Temp\\ipykernel_17100\\726538002.py:3: SyntaxWarning: invalid escape sequence '\\S'\n",
      "  file_path = 'D:\\SystemFile\\Desktop\\Statistical-Modeling--for-2026\\dataset\\国家海洋环境检测中心海水水质检测信息2017-2025年\\国家海洋环境检测中心海水水质检测信息2017年.csv'\n"
     ]
    },
    {
     "data": {
      "text/plain": [
       "bgs               True\n",
       "bgs (2)           True\n",
       "bgs (3)           True\n",
       "bgs (4)           True\n",
       "bgs (5)           True\n",
       "bgs (6)           True\n",
       "bgs (7)           True\n",
       "bgs (8)           True\n",
       "bgs (9)           True\n",
       "bgs (10)          True\n",
       "bgs (11)          True\n",
       "bgs (12)          True\n",
       "bgs (13)          True\n",
       "sp_wt             True\n",
       "news-item         True\n",
       "news-item (2)     True\n",
       "news-item (3)     True\n",
       "news-item (4)     True\n",
       "news-item (5)     True\n",
       "news-item (6)     True\n",
       "news-item (7)     True\n",
       "news-item (8)     True\n",
       "news-item (9)     True\n",
       "news-item (10)    True\n",
       "news-item (11)    True\n",
       "news-item (12)    True\n",
       "news-item (13)    True\n",
       "dtype: bool"
      ]
     },
     "execution_count": 7,
     "metadata": {},
     "output_type": "execute_result"
    }
   ],
   "execution_count": 7
  },
  {
   "metadata": {},
   "cell_type": "code",
   "outputs": [],
   "execution_count": null,
   "source": "",
   "id": "c5b16cecf88f1fe7"
  }
 ],
 "metadata": {
  "kernelspec": {
   "display_name": "Python 3",
   "language": "python",
   "name": "python3"
  },
  "language_info": {
   "codemirror_mode": {
    "name": "ipython",
    "version": 2
   },
   "file_extension": ".py",
   "mimetype": "text/x-python",
   "name": "python",
   "nbconvert_exporter": "python",
   "pygments_lexer": "ipython2",
   "version": "2.7.6"
  }
 },
 "nbformat": 4,
 "nbformat_minor": 5
}
